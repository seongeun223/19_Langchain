{
 "cells": [
  {
   "cell_type": "markdown",
   "metadata": {},
   "source": [
    "### LLM As Judge\n",
    "\n",
    "    LLM 모델을 평가자로 설정하여 모델의 성능을 평가하고 개선할 수 있다.\n",
    "\n",
    "### OFF the shelf Evaluator\n",
    "\n",
    "    LangSmith에서 제공하는 기본 평가자 LLM을 사용해 모델의 출력을 자동으로 평가할 수 있게 해준다.\n",
    "\n",
    "**주요 특징**\n",
    "\n",
    "    사전 정의된 평가 기준 제공\n",
    "    일관된 평가 방식 적용\n",
    "    대규모 출력 평가 자동화 가능\n",
    "\n",
    "**필요 정보**\n",
    "\n",
    "    input : 질문, 보통 데이터셋의 Question이 사용된다.\n",
    "    prection : LLM이 생성한 답변\n",
    "    reference : 정답 답변, Context 등 변칙적으로 사용 가능"
   ]
  },
  {
   "cell_type": "code",
   "execution_count": 9,
   "metadata": {},
   "outputs": [
    {
     "data": {
      "text/plain": [
       "'백설공주는 사과를 먹고 쓰러졌습니다.'"
      ]
     },
     "execution_count": 9,
     "metadata": {},
     "output_type": "execute_result"
    }
   ],
   "source": [
    "from rag import PDFRAG\n",
    "from langchain_openai import ChatOpenAI\n",
    "\n",
    "rag = PDFRAG(\n",
    "    file_path=\"data/snow-white.pdf\", llm=ChatOpenAI(model_name=\"gpt-4o-mini\", temperature=0)\n",
    ")\n",
    "\n",
    "retriever = rag.create_retriever()\n",
    "\n",
    "chain = rag.create_chain(retriever)\n",
    "\n",
    "chain.invoke(\"백설공주는 어떤 과일을 먹고 쓰러졌나요?\")"
   ]
  },
  {
   "cell_type": "code",
   "execution_count": 10,
   "metadata": {},
   "outputs": [],
   "source": [
    "# 질문에 답변하는 함수\n",
    "def ask_question(inputs : dict):\n",
    "    return {\"answer\" : chain.invoke(inputs[\"question\"])}"
   ]
  },
  {
   "cell_type": "code",
   "execution_count": 11,
   "metadata": {},
   "outputs": [
    {
     "data": {
      "text/plain": [
       "{'answer': '백설공주는 사과를 먹고 쓰러졌습니다.'}"
      ]
     },
     "execution_count": 11,
     "metadata": {},
     "output_type": "execute_result"
    }
   ],
   "source": [
    "llm_answer = ask_question(\n",
    "    {\"question\" : \"백설공주는 어떤 과일을 먹고 쓰러졌나요?\"}\n",
    ")\n",
    "\n",
    "llm_answer"
   ]
  },
  {
   "cell_type": "code",
   "execution_count": 12,
   "metadata": {},
   "outputs": [],
   "source": [
    "# evaluator prompt 출력을 위한 함수\n",
    "def print_evaluator_prompt(evaluator):\n",
    "    return evaluator.evaluator.prompt.pretty_print()"
   ]
  },
  {
   "cell_type": "markdown",
   "metadata": {},
   "source": [
    "### Question-Answer Evaluator\n",
    "\n",
    "    질문(Question)과 답변(Answer)을 평가합니다.\n",
    "\n",
    "    input : 사용자 입력\n",
    "    prediction : LLM이 생성한 답변\n",
    "    reference : 정답 답변\n",
    "\n",
    "**참고**\n",
    "\n",
    "    Evaluator 프롬프트의 변수에는 query(input), result(prediciton), answer(reference)로 정의한다."
   ]
  },
  {
   "cell_type": "code",
   "execution_count": 13,
   "metadata": {},
   "outputs": [
    {
     "name": "stdout",
     "output_type": "stream",
     "text": [
      "You are a teacher grading a quiz.\n",
      "You are given a question, the student's answer, and the true answer, and are asked to score the student answer as either CORRECT or INCORRECT.\n",
      "\n",
      "Example Format:\n",
      "QUESTION: question here\n",
      "STUDENT ANSWER: student's answer here\n",
      "TRUE ANSWER: true answer here\n",
      "GRADE: CORRECT or INCORRECT here\n",
      "\n",
      "Grade the student answers based ONLY on their factual accuracy. Ignore differences in punctuation and phrasing between the student answer and true answer. It is OK if the student answer contains more information than the true answer, as long as it does not contain any conflicting statements. Begin! \n",
      "\n",
      "QUESTION: \u001b[33;1m\u001b[1;3m{query}\u001b[0m\n",
      "STUDENT ANSWER: \u001b[33;1m\u001b[1;3m{result}\u001b[0m\n",
      "TRUE ANSWER: \u001b[33;1m\u001b[1;3m{answer}\u001b[0m\n",
      "GRADE:\n"
     ]
    }
   ],
   "source": [
    "from langsmith.evaluation import evaluate, LangChainStringEvaluator\n",
    "\n",
    "# qa 평가자 생성\n",
    "qa_evaluator = LangChainStringEvaluator(\"qa\")\n",
    "\n",
    "print_evaluator_prompt(qa_evaluator)"
   ]
  },
  {
   "cell_type": "code",
   "execution_count": 14,
   "metadata": {},
   "outputs": [
    {
     "name": "stdout",
     "output_type": "stream",
     "text": [
      "View the evaluation results for experiment: 'RAG_EVALUATION-4bf11df9' at:\n",
      "https://smith.langchain.com/o/5924f60f-3d1b-477e-8828-acaa0f00dd1c/datasets/cb8ba601-ec75-4365-a363-d0bd84615bc1/compare?selectedSessions=c2f00469-8083-4ea1-bc0a-f377ebcfe4d3\n",
      "\n",
      "\n"
     ]
    },
    {
     "data": {
      "application/vnd.jupyter.widget-view+json": {
       "model_id": "bc693cbb9bb04230a32aab4820a21738",
       "version_major": 2,
       "version_minor": 0
      },
      "text/plain": [
       "0it [00:00, ?it/s]"
      ]
     },
     "metadata": {},
     "output_type": "display_data"
    }
   ],
   "source": [
    "dataset_name = \"RAG_EVALUATION_DATASET\"\n",
    "\n",
    "experiment_results = evaluate(\n",
    "    ask_question,                           # 평가할 함수 지정\n",
    "    data=dataset_name,                      # 데이터셋 지정\n",
    "    evaluators=[qa_evaluator],              # 평가자 지정\n",
    "    experiment_prefix=\"RAG_EVALUATION\",     # 실험 이름 지정\n",
    "    metadata={\"varient\" : \"QA Evaluator를 활용한 평가\"}\n",
    ")"
   ]
  },
  {
   "cell_type": "markdown",
   "metadata": {},
   "source": [
    "### Context에 기반한 답변 Evaluator\n",
    "\n",
    "**\"Context_qa\"**\n",
    "\n",
    "    LLM 체인에 정확성을 판단하는데 context를 사용하도록 지시\n",
    "\n",
    "**\"cot_qa\"**\n",
    "\n",
    "    최종 판결을 하기 전에 LLM의 추론을 사용하도록 지시"
   ]
  },
  {
   "cell_type": "code",
   "execution_count": 15,
   "metadata": {},
   "outputs": [],
   "source": [
    "# Context를 반환하는 RAG 결과 반환 함수\n",
    "def rag_context_answer(inputs: dict):\n",
    "    context = retriever.invoke(inputs[\"question\"])\n",
    "    \n",
    "    return {\n",
    "        \"context\":\"\\n\".join([doc.page_content for doc in context]),\n",
    "        \"answer\": chain.invoke(inputs[\"question\"]),\n",
    "        \"query\": inputs[\"question\"]\n",
    "    }"
   ]
  },
  {
   "cell_type": "code",
   "execution_count": 16,
   "metadata": {},
   "outputs": [
    {
     "data": {
      "text/plain": [
       "{'context': '왕비는먹음직스럽게생긴사과를골라독을발랐어요.\\n그리고과일장수로변장했지요.\\n왕비는산을넘고또넘어일곱난쟁이의오두막에도착했어요.\\n“새콤달콤맛있는사과가있어요. 아가씨의붉은입술처럼새빨\\n간사과랍니다. 잠깐문을열어보세요.”\\n백설공주는고개를저었어요.\\n“난쟁이들이문을열어주지말라고했어요.”\\n백설공주가거절하자, 왕비는창문틈새로사과를쑥내밀었어\\n요.\\n“그럼, 맛이라도봐요. 정말맛있으니까. 둘이먹다하나가죽어\\n도모를걸요.”\\n“탐스러운사과네. 맛있어보여. 한입만아삭깨물어볼까?”\\n사과를베어문순간, 백설공주는온몸에독이퍼져정신을잃고\\n쓰러졌어요.\\n사과를베어문순간, 백설공주는온몸에독이퍼져정신을잃고\\n쓰러졌어요.\\n“호호호. 이제내가세상에서가장아름답겠지?”\\n왕비는백설공주를버려둔채자리를떠났어요.\\n백설공주\\n옛날어느왕국에공주님이태어났어요.\\n“어쩜이렇게어여쁠까? 살결이눈처럼하얗구나. 백\\n설공주라고불러야겠다.”\\n왕과왕비는갓태어난딸을보며기뻐했어요.\\n하지만기쁨도잠시, 왕비는곧세상을떠나고말았어\\n요.\\n숲속을헤매던백설공주는외딴오두막에이르렀어요.\\n들여다보니오두막은비어있었어요.\\n“아무도없네. 좀쉬어가도될까? 어? 신기하다! 모든게작아. \\n어어? 이상하다! 모든게일곱. 의자도일곱, 접시도일곱. 어머, \\n침대도일곱개네.”\\n도망치느라치진백설공주는식탁위에있던빵을먹고나서\\n일곱번째침대에쓰러져잠들었어요.\\n밤이되자오두막주인인일곱난쟁이가돌아왔어요.\\n난쟁이들은집안이어질러진것을보고깜짝놀랐지요.\\n일곱째난쟁이가큰소리로외쳤어요.\\n“누가내침대에서자고있어!”\\n북적이는소리에잠이깬백설공주는왕비를피해도망쳤다고\\n이야기했어요.',\n",
       " 'answer': '백설공주는 사과를 먹고 쓰러졌습니다.',\n",
       " 'query': '백설공주는 어떤 과일을 먹고 쓰러졌나요?'}"
      ]
     },
     "execution_count": 16,
     "metadata": {},
     "output_type": "execute_result"
    }
   ],
   "source": [
    "rag_context_answer(\n",
    "    {\"question\" : \"백설공주는 어떤 과일을 먹고 쓰러졌나요?\"}\n",
    ")"
   ]
  },
  {
   "cell_type": "code",
   "execution_count": 17,
   "metadata": {},
   "outputs": [],
   "source": [
    "# cot_qa 평가자\n",
    "cot_qa_evaluator = LangChainStringEvaluator(\n",
    "    \"cot_qa\",\n",
    "    prepare_data=lambda run, example : {\n",
    "        \"prediction\" : run.outputs[\"answer\"],       # LLM이 생성한 답변\n",
    "        \"reference\" : run.outputs[\"context\"],       # Context\n",
    "        \"input\" : example.inputs[\"question\"]        # 데이터셋의 질문\n",
    "    }\n",
    ")\n",
    "\n",
    "# cotext_qa 평가자\n",
    "context_qa_evaluator = LangChainStringEvaluator(\n",
    "    \"cot_qa\",\n",
    "    prepare_data=lambda run, example : {\n",
    "        \"prediction\" : run.outputs[\"answer\"],       # LLM이 생성한 답변\n",
    "        \"reference\" : run.outputs[\"context\"],       # Context\n",
    "        \"input\" : example.inputs[\"question\"]        # 데이터셋의 질문\n",
    "    }\n",
    ")"
   ]
  },
  {
   "cell_type": "code",
   "execution_count": 18,
   "metadata": {},
   "outputs": [
    {
     "name": "stdout",
     "output_type": "stream",
     "text": [
      "You are a teacher grading a quiz.\n",
      "You are given a question, the context the question is about, and the student's answer. You are asked to score the student's answer as either CORRECT or INCORRECT, based on the context.\n",
      "Write out in a step by step manner your reasoning to be sure that your conclusion is correct. Avoid simply stating the correct answer at the outset.\n",
      "\n",
      "Example Format:\n",
      "QUESTION: question here\n",
      "CONTEXT: context the question is about here\n",
      "STUDENT ANSWER: student's answer here\n",
      "EXPLANATION: step by step reasoning here\n",
      "GRADE: CORRECT or INCORRECT here\n",
      "\n",
      "Grade the student answers based ONLY on their factual accuracy. Ignore differences in punctuation and phrasing between the student answer and true answer. It is OK if the student answer contains more information than the true answer, as long as it does not contain any conflicting statements. Begin! \n",
      "\n",
      "QUESTION: \u001b[33;1m\u001b[1;3m{query}\u001b[0m\n",
      "CONTEXT: \u001b[33;1m\u001b[1;3m{context}\u001b[0m\n",
      "STUDENT ANSWER: \u001b[33;1m\u001b[1;3m{result}\u001b[0m\n",
      "EXPLANATION:\n"
     ]
    }
   ],
   "source": [
    "print_evaluator_prompt(cot_qa_evaluator)"
   ]
  },
  {
   "cell_type": "code",
   "execution_count": 19,
   "metadata": {},
   "outputs": [
    {
     "name": "stdout",
     "output_type": "stream",
     "text": [
      "You are a teacher grading a quiz.\n",
      "You are given a question, the context the question is about, and the student's answer. You are asked to score the student's answer as either CORRECT or INCORRECT, based on the context.\n",
      "Write out in a step by step manner your reasoning to be sure that your conclusion is correct. Avoid simply stating the correct answer at the outset.\n",
      "\n",
      "Example Format:\n",
      "QUESTION: question here\n",
      "CONTEXT: context the question is about here\n",
      "STUDENT ANSWER: student's answer here\n",
      "EXPLANATION: step by step reasoning here\n",
      "GRADE: CORRECT or INCORRECT here\n",
      "\n",
      "Grade the student answers based ONLY on their factual accuracy. Ignore differences in punctuation and phrasing between the student answer and true answer. It is OK if the student answer contains more information than the true answer, as long as it does not contain any conflicting statements. Begin! \n",
      "\n",
      "QUESTION: \u001b[33;1m\u001b[1;3m{query}\u001b[0m\n",
      "CONTEXT: \u001b[33;1m\u001b[1;3m{context}\u001b[0m\n",
      "STUDENT ANSWER: \u001b[33;1m\u001b[1;3m{result}\u001b[0m\n",
      "EXPLANATION:\n"
     ]
    }
   ],
   "source": [
    "print_evaluator_prompt(context_qa_evaluator)"
   ]
  },
  {
   "cell_type": "code",
   "execution_count": 20,
   "metadata": {},
   "outputs": [
    {
     "name": "stdout",
     "output_type": "stream",
     "text": [
      "View the evaluation results for experiment: 'RAG_EVALUATION-b67b4c4f' at:\n",
      "https://smith.langchain.com/o/5924f60f-3d1b-477e-8828-acaa0f00dd1c/datasets/cb8ba601-ec75-4365-a363-d0bd84615bc1/compare?selectedSessions=f31aa0e8-73ec-4a30-b8ff-c91a369654f4\n",
      "\n",
      "\n"
     ]
    },
    {
     "data": {
      "application/vnd.jupyter.widget-view+json": {
       "model_id": "0bb5587b654647e8a1ac4894ccf6f7cc",
       "version_major": 2,
       "version_minor": 0
      },
      "text/plain": [
       "0it [00:00, ?it/s]"
      ]
     },
     "metadata": {},
     "output_type": "display_data"
    },
    {
     "data": {
      "text/plain": [
       "<ExperimentResults RAG_EVALUATION-b67b4c4f>"
      ]
     },
     "execution_count": 20,
     "metadata": {},
     "output_type": "execute_result"
    }
   ],
   "source": [
    "# 데이터셋 이름\n",
    "dataset_name = \"RAG_EVALUATION_DATASET\"\n",
    "\n",
    "# 평가 실행\n",
    "evaluate(\n",
    "    rag_context_answer,\n",
    "    data=dataset_name,\n",
    "    evaluators=[cot_qa_evaluator, context_qa_evaluator],\n",
    "    experiment_prefix=\"RAG_EVALUATION\",\n",
    "    metadata={\"variant\" : \"COT_QA & CONTEXT_QA Evaluator를 활용한 평가\"}\n",
    ")"
   ]
  },
  {
   "cell_type": "markdown",
   "metadata": {},
   "source": [
    "### Criteria\n",
    "\n",
    "    기준값이 없거나 얻기 힘든 경우 \"criteria\"를 통해 사용자 지정 기준 집합에 대한 실행을 평가할 수 있다.\n",
    "    답변에 대해 높은 수준의 의미론적 측면을 평가하고자 할 때 유용하다."
   ]
  },
  {
   "cell_type": "markdown",
   "metadata": {},
   "source": [
    "LangChainStringEvaluator(\"criteria\", config={ \"criteria\": `아래 중 하나의 criterion` })\n",
    "\n",
    "| 기준 | 설명 |\n",
    "|------|------|\n",
    "| `conciseness` | 답변이 간결하고 간단한지 평가 |\n",
    "| `relevance` | 답변이 질문과 관련이 있는지 평가 |\n",
    "| `correctness` | 답변이 옳은지 평가 |\n",
    "| `coherence` | 답변이 일관성이 있는지 평가 |\n",
    "| `harmfulness` | 답변이 해롭거나 유해한지 평가 |\n",
    "| `maliciousness` | 답변이 악의적이거나 악화시키는지 평가 |\n",
    "| `helpfulness` | 답변이 도움이 되는지 평가 |\n",
    "| `controversiality` | 답변이 논란이 되는지 평가 |\n",
    "| `misogyny` | 답변이 여성을 비하하는지 평가 |\n",
    "| `criminality` | 답변이 범죄를 촉진하는지 평가 |"
   ]
  },
  {
   "cell_type": "code",
   "execution_count": 21,
   "metadata": {},
   "outputs": [
    {
     "name": "stdout",
     "output_type": "stream",
     "text": [
      "View the evaluation results for experiment: 'CRITERIAL_EVALUATION-1463db1a' at:\n",
      "https://smith.langchain.com/o/5924f60f-3d1b-477e-8828-acaa0f00dd1c/datasets/cb8ba601-ec75-4365-a363-d0bd84615bc1/compare?selectedSessions=a427a3aa-79ce-4fb9-8cef-83b0fd256fdf\n",
      "\n",
      "\n"
     ]
    },
    {
     "data": {
      "application/vnd.jupyter.widget-view+json": {
       "model_id": "7a6a17a3b97d43ada6afacfa13d09550",
       "version_major": 2,
       "version_minor": 0
      },
      "text/plain": [
       "0it [00:00, ?it/s]"
      ]
     },
     "metadata": {},
     "output_type": "display_data"
    }
   ],
   "source": [
    "from langsmith.evaluation import evaluate, LangChainStringEvaluator\n",
    "\n",
    "# 평가자\n",
    "criteria_evaluator = [\n",
    "    LangChainStringEvaluator(\"criteria\", config={\"criteria\" : \"conciseness\"}),      # 간결성\n",
    "    LangChainStringEvaluator(\"criteria\", config={\"criteria\" : \"misogyny\"}),         # 여성 비하\n",
    "    LangChainStringEvaluator(\"criteria\", config={\"criteria\" : \"criminality\"}),      # 범죄 촉진\n",
    "]\n",
    "\n",
    "# 데이터셋 이름 설정\n",
    "dataset_name = \"RAG_EVALUATION_DATASET\"\n",
    "\n",
    "# 평가 실행\n",
    "experiment_results = evaluate(\n",
    "    ask_question,\n",
    "    data=dataset_name,\n",
    "    evaluators=criteria_evaluator,\n",
    "    experiment_prefix=\"CRITERIAL_EVALUATION\",\n",
    "    metadata={\"varient\" : \"criteria를 활용한 평가\"}\n",
    ")"
   ]
  }
 ],
 "metadata": {
  "kernelspec": {
   "display_name": "langchain_env",
   "language": "python",
   "name": "python3"
  },
  "language_info": {
   "codemirror_mode": {
    "name": "ipython",
    "version": 3
   },
   "file_extension": ".py",
   "mimetype": "text/x-python",
   "name": "python",
   "nbconvert_exporter": "python",
   "pygments_lexer": "ipython3",
   "version": "3.11.10"
  }
 },
 "nbformat": 4,
 "nbformat_minor": 2
}
