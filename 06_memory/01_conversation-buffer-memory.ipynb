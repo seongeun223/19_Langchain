{
 "cells": [
  {
   "cell_type": "markdown",
   "metadata": {},
   "source": [
    "### ConversationBufferMemory\n",
    "\n",
    "    - 메세지를 저장하고, 다음 변수에 메세지를 추출할 수 있게 해준다."
   ]
  },
  {
   "cell_type": "markdown",
   "metadata": {},
   "source": [
    "**save_context(inputs, outputs) 메소드를 활용해 대화 기록을 저장**\n",
    "\n",
    "    - inputs : 사용자의 입력\n",
    "    - outputs : AI의 출력\n",
    "    - 이후 load_memory_variables 메소드를 사용해 저장된 대화 기록을 확인 가능"
   ]
  },
  {
   "cell_type": "code",
   "execution_count": 1,
   "metadata": {},
   "outputs": [
    {
     "name": "stderr",
     "output_type": "stream",
     "text": [
      "C:\\Users\\20113\\AppData\\Local\\Temp\\ipykernel_11540\\3849759201.py:4: LangChainDeprecationWarning: Please see the migration guide at: https://python.langchain.com/docs/versions/migrating_memory/\n",
      "  memory = ConversationBufferMemory()\n"
     ]
    }
   ],
   "source": [
    "from langchain.memory import ConversationBufferMemory\n",
    "\n",
    "# 메모리 객체\n",
    "memory = ConversationBufferMemory()\n",
    "\n",
    "memory.save_context(\n",
    "    inputs={\n",
    "        \"human\" : \"안녕하세요, 제주도 여행을 계획 중인데 추천해주실 만한 곳이 있을까요?\"\n",
    "    },\n",
    "    outputs={\n",
    "        \"ai\" : \"안녕하세요! 제주도 여행을 도와드리게 되어 기쁩니다. 언제 방문하실 에정인가요?\"\n",
    "    }\n",
    ")"
   ]
  },
  {
   "cell_type": "code",
   "execution_count": 2,
   "metadata": {},
   "outputs": [
    {
     "data": {
      "text/plain": [
       "ConversationBufferMemory(chat_memory=InMemoryChatMessageHistory(messages=[HumanMessage(content='안녕하세요, 제주도 여행을 계획 중인데 추천해주실 만한 곳이 있을까요?', additional_kwargs={}, response_metadata={}), AIMessage(content='안녕하세요! 제주도 여행을 도와드리게 되어 기쁩니다. 언제 방문하실 에정인가요?', additional_kwargs={}, response_metadata={})]))"
      ]
     },
     "execution_count": 2,
     "metadata": {},
     "output_type": "execute_result"
    }
   ],
   "source": [
    "memory"
   ]
  },
  {
   "cell_type": "code",
   "execution_count": 3,
   "metadata": {},
   "outputs": [
    {
     "name": "stdout",
     "output_type": "stream",
     "text": [
      "Human: 안녕하세요, 제주도 여행을 계획 중인데 추천해주실 만한 곳이 있을까요?\n",
      "AI: 안녕하세요! 제주도 여행을 도와드리게 되어 기쁩니다. 언제 방문하실 에정인가요?\n"
     ]
    }
   ],
   "source": [
    "print(memory.load_memory_variables({})[\"history\"])"
   ]
  },
  {
   "cell_type": "code",
   "execution_count": 4,
   "metadata": {},
   "outputs": [],
   "source": [
    "memory.save_context(\n",
    "    inputs={\"human\": \"5월 초에 3박 4일로 방문할 예정입니다.\"},\n",
    "    outputs={\n",
    "        \"ai\": \"5월은 제주도의 봄을 만끽하기 좋은 시기입니다. 우도, 성산일출봉, 카페거리 등을 추천드립니다. 구체적인 일정을 함께 계획해볼까요?\"\n",
    "    },\n",
    ")\n",
    "memory.save_context(\n",
    "    inputs={\"human\": \"네, 일정 계획을 도와주시면 감사하겠습니다.\"},\n",
    "    outputs={\n",
    "        \"ai\": \"첫째 날은 제주 공항에서 렌터카를 픽업하신 후, 함덕 해수욕장과 카페거리를 둘러보시는 것을 추천드립니다. 둘째 날은 성산일출봉과 우도 투어, 셋째 날은 한라산 등반이나 올레길 산책은 어떠신가요?\"\n",
    "    },\n",
    ")"
   ]
  },
  {
   "cell_type": "code",
   "execution_count": 5,
   "metadata": {},
   "outputs": [
    {
     "name": "stdout",
     "output_type": "stream",
     "text": [
      "Human: 안녕하세요, 제주도 여행을 계획 중인데 추천해주실 만한 곳이 있을까요?\n",
      "AI: 안녕하세요! 제주도 여행을 도와드리게 되어 기쁩니다. 언제 방문하실 에정인가요?\n",
      "Human: 5월 초에 3박 4일로 방문할 예정입니다.\n",
      "AI: 5월은 제주도의 봄을 만끽하기 좋은 시기입니다. 우도, 성산일출봉, 카페거리 등을 추천드립니다. 구체적인 일정을 함께 계획해볼까요?\n",
      "Human: 네, 일정 계획을 도와주시면 감사하겠습니다.\n",
      "AI: 첫째 날은 제주 공항에서 렌터카를 픽업하신 후, 함덕 해수욕장과 카페거리를 둘러보시는 것을 추천드립니다. 둘째 날은 성산일출봉과 우도 투어, 셋째 날은 한라산 등반이나 올레길 산책은 어떠신가요?\n"
     ]
    }
   ],
   "source": [
    "print(memory.load_memory_variables({})[\"history\"])"
   ]
  },
  {
   "cell_type": "markdown",
   "metadata": {},
   "source": [
    "return_messages=True로 설정\n",
    "\n",
    "    - 출력 시 HumanMessasge와 AIMessage 객체를 반환해준다."
   ]
  },
  {
   "cell_type": "code",
   "execution_count": 6,
   "metadata": {},
   "outputs": [],
   "source": [
    "from langchain.memory import ConversationBufferMemory\n",
    "\n",
    "# 메모리 객체\n",
    "memory = ConversationBufferMemory(return_messages=True)\n",
    "\n",
    "memory.save_context(\n",
    "    inputs={\n",
    "        \"human\" : \"안녕하세요, 제주도 여행을 계획 중인데 추천해주실 만한 곳이 있을까요?\"\n",
    "    },\n",
    "    outputs={\n",
    "        \"ai\" : \"안녕하세요! 제주도 여행을 도와드리게 되어 기쁩니다. 언제 방문하실 에정인가요?\"\n",
    "    }\n",
    ")\n",
    "memory.save_context(\n",
    "    inputs={\"human\": \"5월 초에 3박 4일로 방문할 예정입니다.\"},\n",
    "    outputs={\n",
    "        \"ai\": \"5월은 제주도의 봄을 만끽하기 좋은 시기입니다. 우도, 성산일출봉, 카페거리 등을 추천드립니다. 구체적인 일정을 함께 계획해볼까요?\"\n",
    "    },\n",
    ")\n",
    "memory.save_context(\n",
    "    inputs={\"human\": \"네, 일정 계획을 도와주시면 감사하겠습니다.\"},\n",
    "    outputs={\n",
    "        \"ai\": \"첫째 날은 제주 공항에서 렌터카를 픽업하신 후, 함덕 해수욕장과 카페거리를 둘러보시는 것을 추천드립니다. 둘째 날은 성산일출봉과 우도 투어, 셋째 날은 한라산 등반이나 올레길 산책은 어떠신가요?\"\n",
    "    },\n",
    ")"
   ]
  },
  {
   "cell_type": "code",
   "execution_count": 7,
   "metadata": {},
   "outputs": [
    {
     "name": "stdout",
     "output_type": "stream",
     "text": [
      "[HumanMessage(content='안녕하세요, 제주도 여행을 계획 중인데 추천해주실 만한 곳이 있을까요?', additional_kwargs={}, response_metadata={}), AIMessage(content='안녕하세요! 제주도 여행을 도와드리게 되어 기쁩니다. 언제 방문하실 에정인가요?', additional_kwargs={}, response_metadata={}), HumanMessage(content='5월 초에 3박 4일로 방문할 예정입니다.', additional_kwargs={}, response_metadata={}), AIMessage(content='5월은 제주도의 봄을 만끽하기 좋은 시기입니다. 우도, 성산일출봉, 카페거리 등을 추천드립니다. 구체적인 일정을 함께 계획해볼까요?', additional_kwargs={}, response_metadata={}), HumanMessage(content='네, 일정 계획을 도와주시면 감사하겠습니다.', additional_kwargs={}, response_metadata={}), AIMessage(content='첫째 날은 제주 공항에서 렌터카를 픽업하신 후, 함덕 해수욕장과 카페거리를 둘러보시는 것을 추천드립니다. 둘째 날은 성산일출봉과 우도 투어, 셋째 날은 한라산 등반이나 올레길 산책은 어떠신가요?', additional_kwargs={}, response_metadata={})]\n"
     ]
    }
   ],
   "source": [
    "print(memory.load_memory_variables({})[\"history\"])"
   ]
  },
  {
   "cell_type": "markdown",
   "metadata": {},
   "source": [
    "### Chain에 연결"
   ]
  },
  {
   "cell_type": "code",
   "execution_count": 8,
   "metadata": {},
   "outputs": [
    {
     "data": {
      "text/plain": [
       "True"
      ]
     },
     "execution_count": 8,
     "metadata": {},
     "output_type": "execute_result"
    }
   ],
   "source": [
    "from dotenv import load_dotenv\n",
    "\n",
    "load_dotenv()"
   ]
  },
  {
   "cell_type": "code",
   "execution_count": 11,
   "metadata": {},
   "outputs": [],
   "source": [
    "from langchain_openai import ChatOpenAI\n",
    "from langchain.chains import ConversationChain\n",
    "\n",
    "llm = ChatOpenAI(\n",
    "    temperature=0,\n",
    "    model=\"gpt-4o\"\n",
    ")\n",
    "\n",
    "conversation = ConversationChain(\n",
    "    llm=llm,\n",
    "    memory=ConversationBufferMemory()\n",
    ")"
   ]
  },
  {
   "cell_type": "code",
   "execution_count": 12,
   "metadata": {},
   "outputs": [
    {
     "name": "stdout",
     "output_type": "stream",
     "text": [
      "안녕하세요! 피자를 주문하시려는군요. 다양한 종류의 피자가 있습니다. 예를 들어, 클래식한 마르게리타 피자는 신선한 토마토 소스, 모짜렐라 치즈, 바질 잎으로 만들어져 깔끔하고 담백한 맛을 자랑합니다. 페퍼로니 피자는 매콤한 페퍼로니와 풍부한 치즈가 어우러져 많은 분들이 좋아하시는 인기 메뉴입니다. 만약 고기를 좋아하신다면, 미트 러버스 피자는 소시지, 베이컨, 햄 등 다양한 고기가 듬뿍 들어가 있어 만족스러운 선택이 될 것입니다. 채소를 좋아하신다면 베지터리안 피자는 신선한 야채들이 가득해 건강한 맛을 느낄 수 있습니다. 혹시 다른 종류의 피자를 원하시면 말씀해 주세요!\n"
     ]
    }
   ],
   "source": [
    "response = conversation.predict(\n",
    "    input=\"안녕하세요. 피자 한 판을 주문하고 싶은데 어떤 피자가 있나요?\"\n",
    ")\n",
    "\n",
    "print(response)"
   ]
  },
  {
   "cell_type": "code",
   "execution_count": 13,
   "metadata": {},
   "outputs": [
    {
     "name": "stdout",
     "output_type": "stream",
     "text": [
      "물론입니다! 아래에 마크다운 형식으로 요약해드리겠습니다:\n",
      "\n",
      "- **마르게리타 피자**\n",
      "  - 신선한 토마토 소스\n",
      "  - 모짜렐라 치즈\n",
      "  - 바질 잎\n",
      "  - 깔끔하고 담백한 맛\n",
      "\n",
      "- **페퍼로니 피자**\n",
      "  - 매콤한 페퍼로니\n",
      "  - 풍부한 치즈\n",
      "  - 인기 메뉴\n",
      "\n",
      "- **미트 러버스 피자**\n",
      "  - 소시지, 베이컨, 햄 등 다양한 고기\n",
      "  - 만족스러운 선택\n",
      "\n",
      "- **베지터리안 피자**\n",
      "  - 신선한 야채들\n",
      "  - 건강한 맛\n",
      "\n",
      "다른 종류의 피자가 필요하시면 언제든지 말씀해 주세요!\n"
     ]
    }
   ],
   "source": [
    "response = conversation.predict(\n",
    "    input=\"이전 답변을 마크다운 형식으로 요약해서 정리해주세요\"\n",
    ")\n",
    "\n",
    "print(response)"
   ]
  }
 ],
 "metadata": {
  "kernelspec": {
   "display_name": "langchain_env",
   "language": "python",
   "name": "python3"
  },
  "language_info": {
   "codemirror_mode": {
    "name": "ipython",
    "version": 3
   },
   "file_extension": ".py",
   "mimetype": "text/x-python",
   "name": "python",
   "nbconvert_exporter": "python",
   "pygments_lexer": "ipython3",
   "version": "3.11.10"
  }
 },
 "nbformat": 4,
 "nbformat_minor": 2
}
