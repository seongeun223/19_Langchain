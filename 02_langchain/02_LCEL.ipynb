{
 "cells": [
  {
   "cell_type": "markdown",
   "metadata": {
    "vscode": {
     "languageId": "plaintext"
    }
   },
   "source": [
    "# LCEL (LangChain Expression Language)\n",
    "- 사용자의 입력 -> 프롬프트 템플릿 -> LLM 모델 전달\n",
    "- 각 단계를 차례로 엮어서 하나의 파이프라인으로 만들어주는 것\n",
    "\n",
    "chain = prompt | model | output_parser"
   ]
  },
  {
   "cell_type": "markdown",
   "metadata": {},
   "source": [
    "### 프롬프트 템플릿\n",
    "- 사용자의 입력 변수를 받아서 완전한 프롬프트 문자열을 만드는데 사용하는 템플릿"
   ]
  },
  {
   "cell_type": "code",
   "execution_count": 2,
   "metadata": {},
   "outputs": [],
   "source": [
    "from langchain_core.prompts import PromptTemplate\n",
    "\n",
    "template = \"{lecture}에 대해 설명해주세요\"\n",
    "\n",
    "prompt_template = PromptTemplate(template=template, input_variables=[\"lecture\"])"
   ]
  },
  {
   "cell_type": "code",
   "execution_count": 3,
   "metadata": {},
   "outputs": [
    {
     "name": "stdout",
     "output_type": "stream",
     "text": [
      "스프링에 대해 설명해주세요\n"
     ]
    }
   ],
   "source": [
    "lecture = input(\"궁금한 과목을 입력하세요 : \")\n",
    "\n",
    "prompt = prompt_template.format(lecture=lecture)\n",
    "\n",
    "print(prompt)"
   ]
  },
  {
   "cell_type": "code",
   "execution_count": 6,
   "metadata": {},
   "outputs": [],
   "source": [
    "from langchain_openai import ChatOpenAI\n",
    "\n",
    "model = ChatOpenAI(\n",
    "    model=\"gpt-3.5-turbo\",\n",
    "    temperature=0.1\n",
    ")"
   ]
  },
  {
   "cell_type": "code",
   "execution_count": 7,
   "metadata": {},
   "outputs": [],
   "source": [
    "chain = prompt_template | model"
   ]
  },
  {
   "cell_type": "code",
   "execution_count": 8,
   "metadata": {},
   "outputs": [],
   "source": [
    "# prmpt Template의 변수에 작성할 때는 Dictionary 형태로 key-Value쌍으로\n",
    "# 입력을 줄 수 있다.\n",
    "input = {\"lecture\":\"랭체인\"}"
   ]
  },
  {
   "cell_type": "code",
   "execution_count": 9,
   "metadata": {},
   "outputs": [
    {
     "data": {
      "text/plain": [
       "AIMessage(content='랭체인은 블록체인 기술을 기반으로 한 분산형 랭킹 플랫폼입니다. 이는 사용자들이 다양한 콘텐츠나 제품에 대한 평가와 평판을 기록하고 공유할 수 있는 시스템을 제공합니다. 랭체인은 중앙 집중식 시스템이 아닌 분산된 네트워크를 통해 데이터를 저장하고 관리하며, 이를 통해 신뢰성과 투명성을 보장합니다.\\n\\n랭체인은 블록체인의 특징을 활용하여 데이터의 위변조나 조작을 방지하고, 사용자들 간의 신뢰를 증대시킵니다. 또한 사용자들은 랭체인을 통해 자신의 평가와 평판을 공유함으로써 다른 사용자들에게 가치 있는 정보를 제공하고, 이를 통해 보상을 받을 수 있습니다.\\n\\n랭체인은 다양한 분야에서 활용될 수 있으며, 온라인 쇼핑, 여행, 음식 등 다양한 제품과 서비스에 대한 랭킹 시스템을 제공할 수 있습니다. 이를 통해 사용자들은 더 나은 제품을 선택하고, 더 나은 서비스를 받을 수 있게 됩니다.', additional_kwargs={'refusal': None}, response_metadata={'token_usage': {'completion_tokens': 411, 'prompt_tokens': 18, 'total_tokens': 429, 'completion_tokens_details': {'audio_tokens': None, 'reasoning_tokens': 0}, 'prompt_tokens_details': {'audio_tokens': None, 'cached_tokens': 0}}, 'model_name': 'gpt-3.5-turbo-0125', 'system_fingerprint': None, 'finish_reason': 'stop', 'logprobs': None}, id='run-565db754-f7ec-4a54-a429-eb8e77a25f36-0', usage_metadata={'input_tokens': 18, 'output_tokens': 411, 'total_tokens': 429, 'input_token_details': {'cache_read': 0}, 'output_token_details': {'reasoning': 0}})"
      ]
     },
     "execution_count": 9,
     "metadata": {},
     "output_type": "execute_result"
    }
   ],
   "source": [
    "chain.invoke(input)"
   ]
  },
  {
   "cell_type": "markdown",
   "metadata": {},
   "source": [
    "### 출력 형식 지정 (Output Parser)\n",
    "- LLM 모델이 응답해주는 내용에 대한 형식을 지정해주는 것"
   ]
  },
  {
   "cell_type": "code",
   "execution_count": 10,
   "metadata": {},
   "outputs": [],
   "source": [
    "from langchain_core.output_parsers import StrOutputParser\n",
    "\n",
    "output_parser = StrOutputParser()"
   ]
  },
  {
   "cell_type": "code",
   "execution_count": 11,
   "metadata": {},
   "outputs": [],
   "source": [
    "chain = prompt_template | model | output_parser"
   ]
  },
  {
   "cell_type": "code",
   "execution_count": 12,
   "metadata": {},
   "outputs": [
    {
     "data": {
      "text/plain": [
       "'랭체인은 블록체인 기술을 활용하여 게임 산업에 적용된 분산형 게임 개발 플랫폼입니다. 랭체인은 게임 개발자들이 게임을 개발하고 운영하는 데 필요한 다양한 기능을 제공하며, 게임 사용자들은 게임을 즐기는 동안 보상을 받을 수 있습니다.\\n\\n랭체인은 블록체인 기술을 통해 게임 데이터의 안전한 저장과 관리를 보장하며, 게임 사용자들은 블록체인을 통해 게임 아이템을 소유하고 거래할 수 있습니다. 이를 통해 게임 사용자들은 게임을 즐기는 동시에 가치를 창출할 수 있습니다.\\n\\n또한, 랭체인은 게임 개발자들이 게임을 개발하고 운영하는 데 필요한 다양한 도구와 서비스를 제공하여 게임의 품질을 향상시키고 개발 비용을 절감할 수 있도록 지원합니다. 이를 통해 게임 개발자들은 보다 효율적으로 게임을 개발하고 운영할 수 있습니다.'"
      ]
     },
     "execution_count": 12,
     "metadata": {},
     "output_type": "execute_result"
    }
   ],
   "source": [
    "chain.invoke(input)"
   ]
  },
  {
   "cell_type": "code",
   "execution_count": 14,
   "metadata": {},
   "outputs": [],
   "source": [
    "### 영어 회화를 알려주는 선생님 챗봇\n",
    "### 어떤 상황을 주면 영어회화 + 한글 해석\n",
    "\n",
    "template = \"\"\"\n",
    "당신은 영어를 가르치는 10년차 선생님입니다. 주어진 상황에 맞는 영어 회화를 작성해주세요\n",
    "양식은 [FORMAT]을 참고하여 작성해주세요\n",
    "\n",
    "#상황:\n",
    "{question}\n",
    "\n",
    "#FORMAT:\n",
    "- 영어 회화\n",
    "- 한글 해석\n",
    "\"\"\"\n",
    "\n",
    "# 프롬프트 템플릿 작성\n",
    "prompt = PromptTemplate.from_template(template)\n",
    "\n",
    "# 모델 객체 작성\n",
    "model = ChatOpenAI(model_name=\"gpt-4o\")\n",
    "\n",
    "# 문자열 출력 파서 객체 생성\n",
    "output_parser = StrOutputParser()"
   ]
  },
  {
   "cell_type": "code",
   "execution_count": 15,
   "metadata": {},
   "outputs": [],
   "source": [
    "# 체인 구성\n",
    "chain = prompt | model | output_parser"
   ]
  },
  {
   "cell_type": "code",
   "execution_count": 16,
   "metadata": {},
   "outputs": [
    {
     "name": "stdout",
     "output_type": "stream",
     "text": [
      "- 영어 회화\n",
      "  - Server: Hello, welcome to [Restaurant Name]. How many people are in your party?\n",
      "  - You: Hi, it's just me today.\n",
      "  - Server: Great! Please follow me. Here's your table. Can I get you started with something to drink?\n",
      "  - You: Yes, I'll have a glass of water, please.\n",
      "  - Server: Certainly. Here is the menu. Do you need a few minutes to decide, or are you ready to order?\n",
      "  - You: I think I'm ready. I'll have the grilled chicken salad, please.\n",
      "  - Server: Excellent choice! Would you like any appetizers or sides with that?\n",
      "  - You: No, thank you. Just the salad.\n",
      "  - Server: Perfect. Your order will be out shortly. Enjoy your meal!\n",
      "\n",
      "- 한글 해석\n",
      "  - 서버: 안녕하세요, [식당 이름]에 오신 것을 환영합니다. 몇 분이신가요?\n",
      "  - 당신: 안녕하세요, 오늘은 저 혼자예요.\n",
      "  - 서버: 알겠습니다! 저를 따라오세요. 여기 테이블입니다. 음료부터 주문하시겠어요?\n",
      "  - 당신: 네, 물 한 잔 주세요.\n",
      "  - 서버: 물론이죠. 여기 메뉴입니다. 결정하는 데 시간이 필요하신가요, 아니면 주문하시겠어요?\n",
      "  - 당신: 주문할 준비가 된 것 같아요. 구운 치킨 샐러드로 주세요.\n",
      "  - 서버: 훌륭한 선택입니다! 전채 요리나 사이드는 필요 없으신가요?\n",
      "  - 당신: 아니요, 괜찮습니다. 샐러드만 주세요.\n",
      "  - 서버: 알겠습니다. 주문하신 음식은 곧 나올 겁니다. 맛있게 드세요!\n"
     ]
    }
   ],
   "source": [
    "# Chain 실행\n",
    "\n",
    "print(chain.invoke({\"question\" : \"저는 식당에 가서 음식을 주문하고 싶어요.\"}))\n"
   ]
  },
  {
   "cell_type": "markdown",
   "metadata": {},
   "source": [
    "여러 가지 재료를 변수를 입력 받고, 재료로 요리할 수 있는 요리의 요리명, 재료, 조리법을 포맷으로 받는 템플릿을 작성하고 문자열 출력 파서로 응답을 받을 수 있게 체인을 구성하세요"
   ]
  },
  {
   "cell_type": "code",
   "execution_count": 18,
   "metadata": {},
   "outputs": [
    {
     "name": "stdout",
     "output_type": "stream",
     "text": [
      "- 요리명: 토마토 오믈렛\n",
      "- 재료: 토마토 1개, 밀가루 1큰술, 계란 2개, 소금 약간, 후추 약간, 올리브 오일 1큰술\n",
      "- 조리법:\n",
      "  1. 토마토를 깨끗이 씻은 후, 작은 크기로 깍둑썰기 합니다.\n",
      "  2. 큰 볼에 계란을 깨고, 소금과 후추를 약간 넣어 잘 섞어줍니다.\n",
      "  3. 계란 혼합물에 밀가루를 넣고 거품기로 잘 섞어 밀가루가 완전히 풀어지도록 합니다.\n",
      "  4. 중불로 예열한 팬에 올리브 오일을 두르고, 썰어놓은 토마토를 넣어 2-3분 정도 살짝 볶습니다.\n",
      "  5. 토마토가 살짝 익으면, 준비한 계란 혼합물을 팬에 부어줍니다.\n",
      "  6. 계란이 반 정도 익을 때까지 기다렸다가, 주걱을 사용해 반으로 접어줍니다.\n",
      "  7. 오믈렛의 양면이 골고루 익도록 1-2분 더 요리합니다.\n",
      "  8. 완성된 오믈렛을 접시에 담아 맛있게 즐깁니다.\n"
     ]
    }
   ],
   "source": [
    "template = \"\"\"\n",
    "당신은 요리사입니다. 주어진 재료를 사용하여 만들 수 있는 요리법을 제안해 주세요.\n",
    "양식은 [FORMAT]을 참고하여 작성해 주세요.\n",
    "\n",
    "#상황:\n",
    "{ingredients}\n",
    "\n",
    "#FORMAT:\n",
    "- 요리명\n",
    "- 재료\n",
    "- 조리법\n",
    "\"\"\"\n",
    "\n",
    "# 프롬프트 템플릿 작성\n",
    "prompt = PromptTemplate.from_template(template)\n",
    "\n",
    "# 모델 객체 작성\n",
    "model = ChatOpenAI(model_name=\"gpt-4o\")\n",
    "\n",
    "# 문자열 출력 파서 객체 생성\n",
    "output_parser = StrOutputParser()\n",
    "\n",
    "# 체인을 구성\n",
    "chain = prompt | model | output_parser\n",
    "\n",
    "# 완성된 Chain을 실행하여 답변을 얻는다.\n",
    "print(chain.invoke({\"ingredients\" : \"토마토, 밀가루, 계란\"}))"
   ]
  }
 ],
 "metadata": {
  "kernelspec": {
   "display_name": "langchain_env",
   "language": "python",
   "name": "python3"
  },
  "language_info": {
   "codemirror_mode": {
    "name": "ipython",
    "version": 3
   },
   "file_extension": ".py",
   "mimetype": "text/x-python",
   "name": "python",
   "nbconvert_exporter": "python",
   "pygments_lexer": "ipython3",
   "version": "3.11.10"
  }
 },
 "nbformat": 4,
 "nbformat_minor": 2
}
