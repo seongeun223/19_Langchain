{
 "cells": [
  {
   "cell_type": "markdown",
   "metadata": {},
   "source": [
    "### LangChain이란?\n",
    "- 대규모의 언어 모델으로 구동되는 어플리케이션을 개발하기 위한 프레임워크"
   ]
  },
  {
   "cell_type": "code",
   "execution_count": 1,
   "metadata": {},
   "outputs": [
    {
     "data": {
      "text/plain": [
       "True"
      ]
     },
     "execution_count": 1,
     "metadata": {},
     "output_type": "execute_result"
    }
   ],
   "source": [
    "from dotenv import load_dotenv\n",
    "\n",
    "load_dotenv(dotenv_path=\"../.env\")"
   ]
  },
  {
   "cell_type": "markdown",
   "metadata": {},
   "source": [
    "### ChatOpenAI\n",
    "- OpenAI사에서 제공해주는 LLM API를 사용하게 해주는 객체\n",
    "\n",
    "**model_name**\n",
    "- 사용할 LLM 모델의 이름\n",
    "\n",
    "**max_tokens**\n",
    "- 모델이 생성할 토큰의 최대 개수\n",
    "\n",
    "**temperature**\n",
    "- 모델의 창의성을 조절하는 매개변수\n",
    "- 0.0 ~ 2.0 사이의 값을 가짐\n",
    "- 0.0에 가까울 수록 예측이 정확해지고, 2.0에 가까울수록 창의적으로 변한다."
   ]
  },
  {
   "cell_type": "code",
   "execution_count": 2,
   "metadata": {},
   "outputs": [
    {
     "name": "stdout",
     "output_type": "stream",
     "text": [
      "응답 : content='랭체인(LLM Chain)은 자연어 처리(NLP)와 관련된 다양한 작업을 수행하기 위해 설계된 프레임워크입니다. 주로 대규모 언어 모델(LLM)을 활용하여 텍스트 생성, 질문 응답, 요약, 번역 등 다양한 언어 관련 작업을 쉽게 구현할 수 있도록 돕습니다.\\n\\n랭체인의 주요 특징은 다음과 같습니다:\\n\\n1. **모듈화**: 랭체' additional_kwargs={'refusal': None} response_metadata={'token_usage': {'completion_tokens': 100, 'prompt_tokens': 15, 'total_tokens': 115, 'completion_tokens_details': {'audio_tokens': None, 'reasoning_tokens': 0}, 'prompt_tokens_details': {'audio_tokens': None, 'cached_tokens': 0}}, 'model_name': 'gpt-4o-mini-2024-07-18', 'system_fingerprint': 'fp_f59a81427f', 'finish_reason': 'length', 'logprobs': None} id='run-3000b879-3ede-48f8-a006-355fa993296b-0' usage_metadata={'input_tokens': 15, 'output_tokens': 100, 'total_tokens': 115, 'input_token_details': {'cache_read': 0}, 'output_token_details': {'reasoning': 0}}\n"
     ]
    }
   ],
   "source": [
    "from langchain_openai import ChatOpenAI\n",
    "\n",
    "# 모델 객체 생성\n",
    "model = ChatOpenAI(\n",
    "    model_name=\"gpt-4o-mini\",\n",
    "    temperature=0.1,\n",
    "    max_tokens=100\n",
    ")\n",
    "\n",
    "# 질문 생성\n",
    "question = \"랭체인에 대해 설명해주세요\"\n",
    "\n",
    "print(f\"응답 : {model.invoke(question)}\")"
   ]
  },
  {
   "cell_type": "markdown",
   "metadata": {},
   "source": [
    "### ContextWindow\n",
    "- 입력과 출력을 처리할 수 있는 최대 토큰 수\n",
    "- LLM 모델이 한 번에 처리할 수 있는 최대 토큰 수를 의미\n",
    "\n",
    "### Max Output Tokens\n",
    "- LLM 모델이 생성할 수 있는 최대 토큰 수\n",
    "- 최대로 답변할 수 있는 길이가 제한됨\n",
    "\n",
    "=> Context Window는 입력과 출력을 모두 포함하는 토큰 수이다.  \n",
    "=> 하지만 입력할 수 있는 토큰의 개수가 많다.\n",
    "\n",
    "**가격**\n",
    "- 답변이 더 비싸다\n",
    "- 입력이 많아도 출력이 적으면 비용이 적게 든다."
   ]
  }
 ],
 "metadata": {
  "kernelspec": {
   "display_name": "langchain_env",
   "language": "python",
   "name": "python3"
  },
  "language_info": {
   "codemirror_mode": {
    "name": "ipython",
    "version": 3
   },
   "file_extension": ".py",
   "mimetype": "text/x-python",
   "name": "python",
   "nbconvert_exporter": "python",
   "pygments_lexer": "ipython3",
   "version": "3.11.10"
  }
 },
 "nbformat": 4,
 "nbformat_minor": 2
}
